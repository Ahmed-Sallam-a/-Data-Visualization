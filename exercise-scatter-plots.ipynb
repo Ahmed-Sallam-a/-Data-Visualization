{
 "cells": [
  {
   "cell_type": "markdown",
   "id": "58f8269f",
   "metadata": {
    "papermill": {
     "duration": 0.01441,
     "end_time": "2023-06-27T17:31:51.383078",
     "exception": false,
     "start_time": "2023-06-27T17:31:51.368668",
     "status": "completed"
    },
    "tags": []
   },
   "source": [
    "**This notebook is an exercise in the [Data Visualization](https://www.kaggle.com/learn/data-visualization) course.  You can reference the tutorial at [this link](https://www.kaggle.com/alexisbcook/scatter-plots).**\n",
    "\n",
    "---\n"
   ]
  },
  {
   "cell_type": "markdown",
   "id": "daada99f",
   "metadata": {
    "papermill": {
     "duration": 0.011441,
     "end_time": "2023-06-27T17:31:51.405920",
     "exception": false,
     "start_time": "2023-06-27T17:31:51.394479",
     "status": "completed"
    },
    "tags": []
   },
   "source": [
    "In this exercise, you will use your new knowledge to propose a solution to a real-world scenario.  To succeed, you will need to import data into Python, answer questions using the data, and generate **scatter plots** to understand patterns in the data.\n",
    "\n",
    "## Scenario\n",
    "\n",
    "You work for a major candy producer, and your goal is to write a report that your company can use to guide the design of its next product.  Soon after starting your research, you stumble across this [very interesting dataset](https://fivethirtyeight.com/features/the-ultimate-halloween-candy-power-ranking/) containing results from a fun survey to crowdsource favorite candies.\n",
    "\n",
    "## Setup\n",
    "\n",
    "Run the next cell to import and configure the Python libraries that you need to complete the exercise."
   ]
  },
  {
   "cell_type": "code",
   "execution_count": 1,
   "id": "f4a2b71b",
   "metadata": {
    "execution": {
     "iopub.execute_input": "2023-06-27T17:31:51.430999Z",
     "iopub.status.busy": "2023-06-27T17:31:51.430588Z",
     "iopub.status.idle": "2023-06-27T17:31:52.997969Z",
     "shell.execute_reply": "2023-06-27T17:31:52.996856Z"
    },
    "papermill": {
     "duration": 1.583256,
     "end_time": "2023-06-27T17:31:53.000912",
     "exception": false,
     "start_time": "2023-06-27T17:31:51.417656",
     "status": "completed"
    },
    "tags": []
   },
   "outputs": [
    {
     "name": "stdout",
     "output_type": "stream",
     "text": [
      "Setup Complete\n"
     ]
    }
   ],
   "source": [
    "import pandas as pd\n",
    "pd.plotting.register_matplotlib_converters()\n",
    "import matplotlib.pyplot as plt\n",
    "%matplotlib inline\n",
    "import seaborn as sns\n",
    "print(\"Setup Complete\")"
   ]
  },
  {
   "cell_type": "markdown",
   "id": "057f991e",
   "metadata": {
    "papermill": {
     "duration": 0.011112,
     "end_time": "2023-06-27T17:31:53.023491",
     "exception": false,
     "start_time": "2023-06-27T17:31:53.012379",
     "status": "completed"
    },
    "tags": []
   },
   "source": [
    "The questions below will give you feedback on your work. Run the following cell to set up our feedback system."
   ]
  },
  {
   "cell_type": "code",
   "execution_count": 2,
   "id": "a3f42bc7",
   "metadata": {
    "execution": {
     "iopub.execute_input": "2023-06-27T17:31:53.049023Z",
     "iopub.status.busy": "2023-06-27T17:31:53.048596Z",
     "iopub.status.idle": "2023-06-27T17:31:53.124963Z",
     "shell.execute_reply": "2023-06-27T17:31:53.123174Z"
    },
    "papermill": {
     "duration": 0.092352,
     "end_time": "2023-06-27T17:31:53.127906",
     "exception": false,
     "start_time": "2023-06-27T17:31:53.035554",
     "status": "completed"
    },
    "tags": []
   },
   "outputs": [
    {
     "name": "stdout",
     "output_type": "stream",
     "text": [
      "Setup Complete\n"
     ]
    }
   ],
   "source": [
    "# Set up code checking\n",
    "import os\n",
    "if not os.path.exists(\"../input/candy.csv\"):\n",
    "    os.symlink(\"../input/data-for-datavis/candy.csv\", \"../input/candy.csv\") \n",
    "from learntools.core import binder\n",
    "binder.bind(globals())\n",
    "from learntools.data_viz_to_coder.ex4 import *\n",
    "print(\"Setup Complete\")"
   ]
  },
  {
   "cell_type": "markdown",
   "id": "78268801",
   "metadata": {
    "papermill": {
     "duration": 0.011032,
     "end_time": "2023-06-27T17:31:53.150512",
     "exception": false,
     "start_time": "2023-06-27T17:31:53.139480",
     "status": "completed"
    },
    "tags": []
   },
   "source": [
    "## Step 1: Load the Data\n",
    "\n",
    "Read the candy data file into `candy_data`.  Use the `\"id\"` column to label the rows."
   ]
  },
  {
   "cell_type": "code",
   "execution_count": 3,
   "id": "d52ca91e",
   "metadata": {
    "execution": {
     "iopub.execute_input": "2023-06-27T17:31:53.175671Z",
     "iopub.status.busy": "2023-06-27T17:31:53.175011Z",
     "iopub.status.idle": "2023-06-27T17:31:53.192928Z",
     "shell.execute_reply": "2023-06-27T17:31:53.191818Z"
    },
    "papermill": {
     "duration": 0.033178,
     "end_time": "2023-06-27T17:31:53.195244",
     "exception": false,
     "start_time": "2023-06-27T17:31:53.162066",
     "status": "completed"
    },
    "tags": []
   },
   "outputs": [
    {
     "data": {
      "application/javascript": [
       "parent.postMessage({\"jupyterEvent\": \"custom.exercise_interaction\", \"data\": {\"outcomeType\": 1, \"valueTowardsCompletion\": 0.3333333333333333, \"interactionType\": 1, \"questionType\": 1, \"questionId\": \"1_LoadData\", \"learnToolsVersion\": \"0.3.4\", \"failureMessage\": \"\", \"exceptionClass\": \"\", \"trace\": \"\"}}, \"*\")"
      ],
      "text/plain": [
       "<IPython.core.display.Javascript object>"
      ]
     },
     "metadata": {},
     "output_type": "display_data"
    },
    {
     "data": {
      "text/markdown": [
       "<span style=\"color:#33cc33\">Correct</span>"
      ],
      "text/plain": [
       "Correct"
      ]
     },
     "metadata": {},
     "output_type": "display_data"
    }
   ],
   "source": [
    "# Path of the file to read\n",
    "candy_filepath = \"../input/candy.csv\"\n",
    "\n",
    "# Fill in the line below to read the file into a variable candy_data\n",
    "candy_data = pd.read_csv(candy_filepath,index_col=\"id\")\n",
    "\n",
    "# Run the line below with no changes to check that you've loaded the data correctly\n",
    "step_1.check()"
   ]
  },
  {
   "cell_type": "code",
   "execution_count": 4,
   "id": "7c09c708",
   "metadata": {
    "execution": {
     "iopub.execute_input": "2023-06-27T17:31:53.220603Z",
     "iopub.status.busy": "2023-06-27T17:31:53.220191Z",
     "iopub.status.idle": "2023-06-27T17:31:53.224975Z",
     "shell.execute_reply": "2023-06-27T17:31:53.223878Z"
    },
    "papermill": {
     "duration": 0.020264,
     "end_time": "2023-06-27T17:31:53.227179",
     "exception": false,
     "start_time": "2023-06-27T17:31:53.206915",
     "status": "completed"
    },
    "tags": []
   },
   "outputs": [],
   "source": [
    "# Lines below will give you a hint or solution code\n",
    "#step_1.hint()\n",
    "#step_1.solution()"
   ]
  },
  {
   "cell_type": "markdown",
   "id": "bdad2888",
   "metadata": {
    "papermill": {
     "duration": 0.01139,
     "end_time": "2023-06-27T17:31:53.250573",
     "exception": false,
     "start_time": "2023-06-27T17:31:53.239183",
     "status": "completed"
    },
    "tags": []
   },
   "source": [
    "## Step 2: Review the data\n",
    "\n",
    "Use a Python command to print the first five rows of the data."
   ]
  },
  {
   "cell_type": "code",
   "execution_count": 5,
   "id": "676f7817",
   "metadata": {
    "execution": {
     "iopub.execute_input": "2023-06-27T17:31:53.276358Z",
     "iopub.status.busy": "2023-06-27T17:31:53.275731Z",
     "iopub.status.idle": "2023-06-27T17:31:53.304336Z",
     "shell.execute_reply": "2023-06-27T17:31:53.303430Z"
    },
    "papermill": {
     "duration": 0.044312,
     "end_time": "2023-06-27T17:31:53.306756",
     "exception": false,
     "start_time": "2023-06-27T17:31:53.262444",
     "status": "completed"
    },
    "tags": []
   },
   "outputs": [
    {
     "data": {
      "text/html": [
       "<div>\n",
       "<style scoped>\n",
       "    .dataframe tbody tr th:only-of-type {\n",
       "        vertical-align: middle;\n",
       "    }\n",
       "\n",
       "    .dataframe tbody tr th {\n",
       "        vertical-align: top;\n",
       "    }\n",
       "\n",
       "    .dataframe thead th {\n",
       "        text-align: right;\n",
       "    }\n",
       "</style>\n",
       "<table border=\"1\" class=\"dataframe\">\n",
       "  <thead>\n",
       "    <tr style=\"text-align: right;\">\n",
       "      <th></th>\n",
       "      <th>competitorname</th>\n",
       "      <th>chocolate</th>\n",
       "      <th>fruity</th>\n",
       "      <th>caramel</th>\n",
       "      <th>peanutyalmondy</th>\n",
       "      <th>nougat</th>\n",
       "      <th>crispedricewafer</th>\n",
       "      <th>hard</th>\n",
       "      <th>bar</th>\n",
       "      <th>pluribus</th>\n",
       "      <th>sugarpercent</th>\n",
       "      <th>pricepercent</th>\n",
       "      <th>winpercent</th>\n",
       "    </tr>\n",
       "    <tr>\n",
       "      <th>id</th>\n",
       "      <th></th>\n",
       "      <th></th>\n",
       "      <th></th>\n",
       "      <th></th>\n",
       "      <th></th>\n",
       "      <th></th>\n",
       "      <th></th>\n",
       "      <th></th>\n",
       "      <th></th>\n",
       "      <th></th>\n",
       "      <th></th>\n",
       "      <th></th>\n",
       "      <th></th>\n",
       "    </tr>\n",
       "  </thead>\n",
       "  <tbody>\n",
       "    <tr>\n",
       "      <th>0</th>\n",
       "      <td>100 Grand</td>\n",
       "      <td>Yes</td>\n",
       "      <td>No</td>\n",
       "      <td>Yes</td>\n",
       "      <td>No</td>\n",
       "      <td>No</td>\n",
       "      <td>Yes</td>\n",
       "      <td>No</td>\n",
       "      <td>Yes</td>\n",
       "      <td>No</td>\n",
       "      <td>0.732</td>\n",
       "      <td>0.860</td>\n",
       "      <td>66.971725</td>\n",
       "    </tr>\n",
       "    <tr>\n",
       "      <th>1</th>\n",
       "      <td>3 Musketeers</td>\n",
       "      <td>Yes</td>\n",
       "      <td>No</td>\n",
       "      <td>No</td>\n",
       "      <td>No</td>\n",
       "      <td>Yes</td>\n",
       "      <td>No</td>\n",
       "      <td>No</td>\n",
       "      <td>Yes</td>\n",
       "      <td>No</td>\n",
       "      <td>0.604</td>\n",
       "      <td>0.511</td>\n",
       "      <td>67.602936</td>\n",
       "    </tr>\n",
       "    <tr>\n",
       "      <th>2</th>\n",
       "      <td>Air Heads</td>\n",
       "      <td>No</td>\n",
       "      <td>Yes</td>\n",
       "      <td>No</td>\n",
       "      <td>No</td>\n",
       "      <td>No</td>\n",
       "      <td>No</td>\n",
       "      <td>No</td>\n",
       "      <td>No</td>\n",
       "      <td>No</td>\n",
       "      <td>0.906</td>\n",
       "      <td>0.511</td>\n",
       "      <td>52.341465</td>\n",
       "    </tr>\n",
       "    <tr>\n",
       "      <th>3</th>\n",
       "      <td>Almond Joy</td>\n",
       "      <td>Yes</td>\n",
       "      <td>No</td>\n",
       "      <td>No</td>\n",
       "      <td>Yes</td>\n",
       "      <td>No</td>\n",
       "      <td>No</td>\n",
       "      <td>No</td>\n",
       "      <td>Yes</td>\n",
       "      <td>No</td>\n",
       "      <td>0.465</td>\n",
       "      <td>0.767</td>\n",
       "      <td>50.347546</td>\n",
       "    </tr>\n",
       "    <tr>\n",
       "      <th>4</th>\n",
       "      <td>Baby Ruth</td>\n",
       "      <td>Yes</td>\n",
       "      <td>No</td>\n",
       "      <td>Yes</td>\n",
       "      <td>Yes</td>\n",
       "      <td>Yes</td>\n",
       "      <td>No</td>\n",
       "      <td>No</td>\n",
       "      <td>Yes</td>\n",
       "      <td>No</td>\n",
       "      <td>0.604</td>\n",
       "      <td>0.767</td>\n",
       "      <td>56.914547</td>\n",
       "    </tr>\n",
       "  </tbody>\n",
       "</table>\n",
       "</div>"
      ],
      "text/plain": [
       "   competitorname chocolate fruity caramel peanutyalmondy nougat  \\\n",
       "id                                                                 \n",
       "0       100 Grand       Yes     No     Yes             No     No   \n",
       "1    3 Musketeers       Yes     No      No             No    Yes   \n",
       "2       Air Heads        No    Yes      No             No     No   \n",
       "3      Almond Joy       Yes     No      No            Yes     No   \n",
       "4       Baby Ruth       Yes     No     Yes            Yes    Yes   \n",
       "\n",
       "   crispedricewafer hard  bar pluribus  sugarpercent  pricepercent  winpercent  \n",
       "id                                                                              \n",
       "0               Yes   No  Yes       No         0.732         0.860   66.971725  \n",
       "1                No   No  Yes       No         0.604         0.511   67.602936  \n",
       "2                No   No   No       No         0.906         0.511   52.341465  \n",
       "3                No   No  Yes       No         0.465         0.767   50.347546  \n",
       "4                No   No  Yes       No         0.604         0.767   56.914547  "
      ]
     },
     "execution_count": 5,
     "metadata": {},
     "output_type": "execute_result"
    }
   ],
   "source": [
    "# Print the first five rows of the data\n",
    "candy_data.head()"
   ]
  },
  {
   "cell_type": "markdown",
   "id": "665daca8",
   "metadata": {
    "papermill": {
     "duration": 0.011637,
     "end_time": "2023-06-27T17:31:53.330642",
     "exception": false,
     "start_time": "2023-06-27T17:31:53.319005",
     "status": "completed"
    },
    "tags": []
   },
   "source": [
    "The dataset contains 83 rows, where each corresponds to a different candy bar.  There are 13 columns:\n",
    "- `'competitorname'` contains the name of the candy bar. \n",
    "- the next **9** columns (from `'chocolate'` to `'pluribus'`) describe the candy.  For instance, rows with chocolate candies have `\"Yes\"` in the `'chocolate'` column (and candies without chocolate have `\"No\"` in the same column).\n",
    "- `'sugarpercent'` provides some indication of the amount of sugar, where higher values signify higher sugar content.\n",
    "- `'pricepercent'` shows the price per unit, relative to the other candies in the dataset.\n",
    "- `'winpercent'` is calculated from the survey results; higher values indicate that the candy was more popular with survey respondents.\n",
    "\n",
    "Use the first five rows of the data to answer the questions below."
   ]
  },
  {
   "cell_type": "code",
   "execution_count": 6,
   "id": "cf838594",
   "metadata": {
    "execution": {
     "iopub.execute_input": "2023-06-27T17:31:53.357177Z",
     "iopub.status.busy": "2023-06-27T17:31:53.356582Z",
     "iopub.status.idle": "2023-06-27T17:31:53.363823Z",
     "shell.execute_reply": "2023-06-27T17:31:53.363117Z"
    },
    "papermill": {
     "duration": 0.023058,
     "end_time": "2023-06-27T17:31:53.365937",
     "exception": false,
     "start_time": "2023-06-27T17:31:53.342879",
     "status": "completed"
    },
    "tags": []
   },
   "outputs": [
    {
     "data": {
      "application/javascript": [
       "parent.postMessage({\"jupyterEvent\": \"custom.exercise_interaction\", \"data\": {\"outcomeType\": 1, \"valueTowardsCompletion\": 0.3333333333333333, \"interactionType\": 1, \"questionType\": 1, \"questionId\": \"2_ReviewData\", \"learnToolsVersion\": \"0.3.4\", \"failureMessage\": \"\", \"exceptionClass\": \"\", \"trace\": \"\"}}, \"*\")"
      ],
      "text/plain": [
       "<IPython.core.display.Javascript object>"
      ]
     },
     "metadata": {},
     "output_type": "display_data"
    },
    {
     "data": {
      "text/markdown": [
       "<span style=\"color:#33cc33\">Correct</span>"
      ],
      "text/plain": [
       "Correct"
      ]
     },
     "metadata": {},
     "output_type": "display_data"
    }
   ],
   "source": [
    "# Fill in the line below: Which candy was more popular with survey respondents:\n",
    "# '3 Musketeers' or 'Almond Joy'?  (Please enclose your answer in single quotes.)\n",
    "more_popular = '3 Musketeers'\n",
    "\n",
    "# Fill in the line below: Which candy has higher sugar content: 'Air Heads'\n",
    "# or 'Baby Ruth'? (Please enclose your answer in single quotes.)\n",
    "more_sugar = 'Air Heads'\n",
    "\n",
    "# Check your answers\n",
    "step_2.check()"
   ]
  },
  {
   "cell_type": "code",
   "execution_count": 7,
   "id": "9387ca8d",
   "metadata": {
    "execution": {
     "iopub.execute_input": "2023-06-27T17:31:53.392830Z",
     "iopub.status.busy": "2023-06-27T17:31:53.392204Z",
     "iopub.status.idle": "2023-06-27T17:31:53.395747Z",
     "shell.execute_reply": "2023-06-27T17:31:53.395069Z"
    },
    "papermill": {
     "duration": 0.019665,
     "end_time": "2023-06-27T17:31:53.398028",
     "exception": false,
     "start_time": "2023-06-27T17:31:53.378363",
     "status": "completed"
    },
    "tags": []
   },
   "outputs": [],
   "source": [
    "# Lines below will give you a hint or solution code\n",
    "#step_2.hint()\n",
    "#step_2.solution()"
   ]
  },
  {
   "cell_type": "markdown",
   "id": "b4b69d13",
   "metadata": {
    "papermill": {
     "duration": 0.012278,
     "end_time": "2023-06-27T17:31:53.422817",
     "exception": false,
     "start_time": "2023-06-27T17:31:53.410539",
     "status": "completed"
    },
    "tags": []
   },
   "source": [
    "## Step 3: The role of sugar\n",
    "\n",
    "Do people tend to prefer candies with higher sugar content?  \n",
    "\n",
    "#### Part A\n",
    "\n",
    "Create a scatter plot that shows the relationship between `'sugarpercent'` (on the horizontal x-axis) and `'winpercent'` (on the vertical y-axis).  _Don't add a regression line just yet -- you'll do that in the next step!_"
   ]
  },
  {
   "cell_type": "code",
   "execution_count": 8,
   "id": "46802a86",
   "metadata": {
    "execution": {
     "iopub.execute_input": "2023-06-27T17:31:53.450409Z",
     "iopub.status.busy": "2023-06-27T17:31:53.449762Z",
     "iopub.status.idle": "2023-06-27T17:31:53.788910Z",
     "shell.execute_reply": "2023-06-27T17:31:53.787789Z"
    },
    "papermill": {
     "duration": 0.355852,
     "end_time": "2023-06-27T17:31:53.791430",
     "exception": false,
     "start_time": "2023-06-27T17:31:53.435578",
     "status": "completed"
    },
    "tags": []
   },
   "outputs": [
    {
     "data": {
      "application/javascript": [
       "parent.postMessage({\"jupyterEvent\": \"custom.exercise_interaction\", \"data\": {\"outcomeType\": 1, \"valueTowardsCompletion\": 0.3333333333333333, \"interactionType\": 1, \"questionType\": 2, \"questionId\": \"3.1_PlotBlueScatter\", \"learnToolsVersion\": \"0.3.4\", \"failureMessage\": \"\", \"exceptionClass\": \"\", \"trace\": \"\"}}, \"*\")"
      ],
      "text/plain": [
       "<IPython.core.display.Javascript object>"
      ]
     },
     "metadata": {},
     "output_type": "display_data"
    },
    {
     "data": {
      "text/markdown": [
       "<span style=\"color:#33cc33\">Correct</span>"
      ],
      "text/plain": [
       "Correct"
      ]
     },
     "metadata": {},
     "output_type": "display_data"
    },
    {
     "data": {
      "image/png": "[encoded data removed]",
      "text/plain": [
       "<Figure size 640x480 with 1 Axes>"
      ]
     },
     "metadata": {},
     "output_type": "display_data"
    }
   ],
   "source": [
    "# Scatter plot showing the relationship between 'sugarpercent' and 'winpercent'\n",
    "sns.scatterplot(x=candy_data['sugarpercent'],y=candy_data['winpercent'])\n",
    "\n",
    "# Check your answer\n",
    "step_3.a.check()"
   ]
  },
  {
   "cell_type": "code",
   "execution_count": 9,
   "id": "23ce2c73",
   "metadata": {
    "execution": {
     "iopub.execute_input": "2023-06-27T17:31:53.820491Z",
     "iopub.status.busy": "2023-06-27T17:31:53.820075Z",
     "iopub.status.idle": "2023-06-27T17:31:53.825216Z",
     "shell.execute_reply": "2023-06-27T17:31:53.823975Z"
    },
    "papermill": {
     "duration": 0.022393,
     "end_time": "2023-06-27T17:31:53.827650",
     "exception": false,
     "start_time": "2023-06-27T17:31:53.805257",
     "status": "completed"
    },
    "tags": []
   },
   "outputs": [],
   "source": [
    "# Lines below will give you a hint or solution code\n",
    "#step_3.a.hint()\n",
    "#step_3.a.solution_plot()"
   ]
  },
  {
   "cell_type": "markdown",
   "id": "5acebe57",
   "metadata": {
    "papermill": {
     "duration": 0.013225,
     "end_time": "2023-06-27T17:31:53.855342",
     "exception": false,
     "start_time": "2023-06-27T17:31:53.842117",
     "status": "completed"
    },
    "tags": []
   },
   "source": [
    "#### Part B\n",
    "\n",
    "Does the scatter plot show a **strong** correlation between the two variables?  If so, are candies with more sugar relatively more or less popular with the survey respondents?"
   ]
  },
  {
   "cell_type": "code",
   "execution_count": 10,
   "id": "683586a8",
   "metadata": {
    "execution": {
     "iopub.execute_input": "2023-06-27T17:31:53.884327Z",
     "iopub.status.busy": "2023-06-27T17:31:53.883951Z",
     "iopub.status.idle": "2023-06-27T17:31:53.888550Z",
     "shell.execute_reply": "2023-06-27T17:31:53.887345Z"
    },
    "papermill": {
     "duration": 0.021645,
     "end_time": "2023-06-27T17:31:53.890695",
     "exception": false,
     "start_time": "2023-06-27T17:31:53.869050",
     "status": "completed"
    },
    "tags": []
   },
   "outputs": [],
   "source": [
    "#step_3.b.hint()"
   ]
  },
  {
   "cell_type": "code",
   "execution_count": 11,
   "id": "36664609",
   "metadata": {
    "execution": {
     "iopub.execute_input": "2023-06-27T17:31:53.919864Z",
     "iopub.status.busy": "2023-06-27T17:31:53.919041Z",
     "iopub.status.idle": "2023-06-27T17:31:53.930876Z",
     "shell.execute_reply": "2023-06-27T17:31:53.929713Z"
    },
    "papermill": {
     "duration": 0.029193,
     "end_time": "2023-06-27T17:31:53.933217",
     "exception": false,
     "start_time": "2023-06-27T17:31:53.904024",
     "status": "completed"
    },
    "tags": []
   },
   "outputs": [
    {
     "data": {
      "application/javascript": [
       "parent.postMessage({\"jupyterEvent\": \"custom.exercise_interaction\", \"data\": {\"interactionType\": 3, \"questionType\": 4, \"questionId\": \"3.2_ThinkBlueScatter\", \"learnToolsVersion\": \"0.3.4\", \"valueTowardsCompletion\": 0.0, \"failureMessage\": \"\", \"exceptionClass\": \"\", \"trace\": \"\", \"outcomeType\": 4}}, \"*\")"
      ],
      "text/plain": [
       "<IPython.core.display.Javascript object>"
      ]
     },
     "metadata": {},
     "output_type": "display_data"
    },
    {
     "data": {
      "text/markdown": [
       "<span style=\"color:#33cc99\">Solution:</span> The scatter plot does not show a strong correlation between the two variables. Since there is no clear relationship between the two variables, this tells us that sugar content does not play a strong role in candy popularity."
      ],
      "text/plain": [
       "Solution: The scatter plot does not show a strong correlation between the two variables. Since there is no clear relationship between the two variables, this tells us that sugar content does not play a strong role in candy popularity."
      ]
     },
     "metadata": {},
     "output_type": "display_data"
    }
   ],
   "source": [
    "# Check your answer (Run this code cell to receive credit!)\n",
    "step_3.b.solution()"
   ]
  },
  {
   "cell_type": "markdown",
   "id": "53da2edf",
   "metadata": {
    "papermill": {
     "duration": 0.013142,
     "end_time": "2023-06-27T17:31:53.960048",
     "exception": false,
     "start_time": "2023-06-27T17:31:53.946906",
     "status": "completed"
    },
    "tags": []
   },
   "source": [
    "## Step 4: Take a closer look\n",
    "\n",
    "#### Part A\n",
    "\n",
    "Create the same scatter plot you created in **Step 3**, but now with a regression line!"
   ]
  },
  {
   "cell_type": "code",
   "execution_count": 12,
   "id": "2c924c64",
   "metadata": {
    "execution": {
     "iopub.execute_input": "2023-06-27T17:31:53.990060Z",
     "iopub.status.busy": "2023-06-27T17:31:53.989304Z",
     "iopub.status.idle": "2023-06-27T17:31:54.427893Z",
     "shell.execute_reply": "2023-06-27T17:31:54.426719Z"
    },
    "papermill": {
     "duration": 0.457205,
     "end_time": "2023-06-27T17:31:54.430700",
     "exception": false,
     "start_time": "2023-06-27T17:31:53.973495",
     "status": "completed"
    },
    "tags": []
   },
   "outputs": [
    {
     "data": {
      "application/javascript": [
       "parent.postMessage({\"jupyterEvent\": \"custom.exercise_interaction\", \"data\": {\"outcomeType\": 1, \"valueTowardsCompletion\": 0.3333333333333333, \"interactionType\": 1, \"questionType\": 2, \"questionId\": \"4.1_PlotBlueReg\", \"learnToolsVersion\": \"0.3.4\", \"failureMessage\": \"\", \"exceptionClass\": \"\", \"trace\": \"\"}}, \"*\")"
      ],
      "text/plain": [
       "<IPython.core.display.Javascript object>"
      ]
     },
     "metadata": {},
     "output_type": "display_data"
    },
    {
     "data": {
      "text/markdown": [
       "<span style=\"color:#33cc33\">Correct</span>"
      ],
      "text/plain": [
       "Correct"
      ]
     },
     "metadata": {},
     "output_type": "display_data"
    },
    {
     "data": {
      "image/png": "[encoded data removed]",
      "text/plain": [
       "<Figure size 640x480 with 1 Axes>"
      ]
     },
     "metadata": {},
     "output_type": "display_data"
    }
   ],
   "source": [
    "# Scatter plot w/ regression line showing the relationship between 'sugarpercent' and 'winpercent'\n",
    "sns.regplot(x=candy_data['sugarpercent'],y=candy_data['winpercent'])\n",
    "\n",
    "# Check your answer\n",
    "step_4.a.check()"
   ]
  },
  {
   "cell_type": "code",
   "execution_count": 13,
   "id": "cc40e686",
   "metadata": {
    "execution": {
     "iopub.execute_input": "2023-06-27T17:31:54.461637Z",
     "iopub.status.busy": "2023-06-27T17:31:54.461165Z",
     "iopub.status.idle": "2023-06-27T17:31:54.466128Z",
     "shell.execute_reply": "2023-06-27T17:31:54.465009Z"
    },
    "papermill": {
     "duration": 0.023278,
     "end_time": "2023-06-27T17:31:54.468503",
     "exception": false,
     "start_time": "2023-06-27T17:31:54.445225",
     "status": "completed"
    },
    "tags": []
   },
   "outputs": [],
   "source": [
    "# Lines below will give you a hint or solution code\n",
    "#step_4.a.hint()\n",
    "#step_4.a.solution_plot()"
   ]
  },
  {
   "cell_type": "markdown",
   "id": "6fc17dce",
   "metadata": {
    "papermill": {
     "duration": 0.013863,
     "end_time": "2023-06-27T17:31:54.496749",
     "exception": false,
     "start_time": "2023-06-27T17:31:54.482886",
     "status": "completed"
    },
    "tags": []
   },
   "source": [
    "#### Part B\n",
    "\n",
    "According to the plot above, is there a **slight** correlation between `'winpercent'` and `'sugarpercent'`?  What does this tell you about the candy that people tend to prefer?"
   ]
  },
  {
   "cell_type": "code",
   "execution_count": 14,
   "id": "0c199d2c",
   "metadata": {
    "execution": {
     "iopub.execute_input": "2023-06-27T17:31:54.527069Z",
     "iopub.status.busy": "2023-06-27T17:31:54.526578Z",
     "iopub.status.idle": "2023-06-27T17:31:54.531627Z",
     "shell.execute_reply": "2023-06-27T17:31:54.530386Z"
    },
    "papermill": {
     "duration": 0.023174,
     "end_time": "2023-06-27T17:31:54.534159",
     "exception": false,
     "start_time": "2023-06-27T17:31:54.510985",
     "status": "completed"
    },
    "tags": []
   },
   "outputs": [],
   "source": [
    "#step_4.b.hint()"
   ]
  },
  {
   "cell_type": "code",
   "execution_count": 15,
   "id": "6961156e",
   "metadata": {
    "execution": {
     "iopub.execute_input": "2023-06-27T17:31:54.564932Z",
     "iopub.status.busy": "2023-06-27T17:31:54.564012Z",
     "iopub.status.idle": "2023-06-27T17:31:54.574148Z",
     "shell.execute_reply": "2023-06-27T17:31:54.572893Z"
    },
    "papermill": {
     "duration": 0.028106,
     "end_time": "2023-06-27T17:31:54.576548",
     "exception": false,
     "start_time": "2023-06-27T17:31:54.548442",
     "status": "completed"
    },
    "tags": []
   },
   "outputs": [
    {
     "data": {
      "application/javascript": [
       "parent.postMessage({\"jupyterEvent\": \"custom.exercise_interaction\", \"data\": {\"interactionType\": 3, \"questionType\": 4, \"questionId\": \"4.2_ThinkBlueReg\", \"learnToolsVersion\": \"0.3.4\", \"valueTowardsCompletion\": 0.0, \"failureMessage\": \"\", \"exceptionClass\": \"\", \"trace\": \"\", \"outcomeType\": 4}}, \"*\")"
      ],
      "text/plain": [
       "<IPython.core.display.Javascript object>"
      ]
     },
     "metadata": {},
     "output_type": "display_data"
    },
    {
     "data": {
      "text/markdown": [
       "<span style=\"color:#33cc99\">Solution:</span> Since the regression line has a slightly positive slope, this tells us that there is a slightly positive correlation between `'winpercent'` and `'sugarpercent'`. Thus, people have a slight preference for candies containing relatively more sugar."
      ],
      "text/plain": [
       "Solution: Since the regression line has a slightly positive slope, this tells us that there is a slightly positive correlation between `'winpercent'` and `'sugarpercent'`. Thus, people have a slight preference for candies containing relatively more sugar."
      ]
     },
     "metadata": {},
     "output_type": "display_data"
    }
   ],
   "source": [
    "# Check your answer (Run this code cell to receive credit!)\n",
    "step_4.b.solution()"
   ]
  },
  {
   "cell_type": "markdown",
   "id": "f2f803c0",
   "metadata": {
    "papermill": {
     "duration": 0.014338,
     "end_time": "2023-06-27T17:31:54.605860",
     "exception": false,
     "start_time": "2023-06-27T17:31:54.591522",
     "status": "completed"
    },
    "tags": []
   },
   "source": [
    "## Step 5: Chocolate!\n",
    "\n",
    "In the code cell below, create a scatter plot to show the relationship between `'pricepercent'` (on the horizontal x-axis) and `'winpercent'` (on the vertical y-axis). Use the `'chocolate'` column to color-code the points.  _Don't add any regression lines just yet -- you'll do that in the next step!_"
   ]
  },
  {
   "cell_type": "code",
   "execution_count": 16,
   "id": "f79a9237",
   "metadata": {
    "execution": {
     "iopub.execute_input": "2023-06-27T17:31:54.637357Z",
     "iopub.status.busy": "2023-06-27T17:31:54.636897Z",
     "iopub.status.idle": "2023-06-27T17:31:55.061504Z",
     "shell.execute_reply": "2023-06-27T17:31:55.059995Z"
    },
    "papermill": {
     "duration": 0.443803,
     "end_time": "2023-06-27T17:31:55.064295",
     "exception": false,
     "start_time": "2023-06-27T17:31:54.620492",
     "status": "completed"
    },
    "tags": []
   },
   "outputs": [
    {
     "data": {
      "application/javascript": [
       "parent.postMessage({\"jupyterEvent\": \"custom.exercise_interaction\", \"data\": {\"outcomeType\": 1, \"valueTowardsCompletion\": 0.3333333333333333, \"interactionType\": 1, \"questionType\": 2, \"questionId\": \"5_ColorScatter\", \"learnToolsVersion\": \"0.3.4\", \"failureMessage\": \"\", \"exceptionClass\": \"\", \"trace\": \"\"}}, \"*\")"
      ],
      "text/plain": [
       "<IPython.core.display.Javascript object>"
      ]
     },
     "metadata": {},
     "output_type": "display_data"
    },
    {
     "data": {
      "text/markdown": [
       "<span style=\"color:#33cc33\">Correct</span>"
      ],
      "text/plain": [
       "Correct"
      ]
     },
     "metadata": {},
     "output_type": "display_data"
    },
    {
     "data": {
      "image/png": "[encoded data removed]",
      "text/plain": [
       "<Figure size 640x480 with 1 Axes>"
      ]
     },
     "metadata": {},
     "output_type": "display_data"
    }
   ],
   "source": [
    "# Scatter plot showing the relationship between 'pricepercent', 'winpercent', and 'chocolate'\n",
    "sns.scatterplot(x=candy_data['pricepercent'],y=candy_data['winpercent'],hue=candy_data['chocolate'])\n",
    "\n",
    "# Check your answer\n",
    "step_5.check()"
   ]
  },
  {
   "cell_type": "code",
   "execution_count": 17,
   "id": "a1bc4692",
   "metadata": {
    "execution": {
     "iopub.execute_input": "2023-06-27T17:31:55.097192Z",
     "iopub.status.busy": "2023-06-27T17:31:55.096775Z",
     "iopub.status.idle": "2023-06-27T17:31:55.101331Z",
     "shell.execute_reply": "2023-06-27T17:31:55.100088Z"
    },
    "papermill": {
     "duration": 0.023835,
     "end_time": "2023-06-27T17:31:55.103511",
     "exception": false,
     "start_time": "2023-06-27T17:31:55.079676",
     "status": "completed"
    },
    "tags": []
   },
   "outputs": [],
   "source": [
    "# Lines below will give you a hint or solution code\n",
    "#step_5.hint()\n",
    "#step_5.solution_plot()"
   ]
  },
  {
   "cell_type": "markdown",
   "id": "909ae484",
   "metadata": {
    "papermill": {
     "duration": 0.015106,
     "end_time": "2023-06-27T17:31:55.134028",
     "exception": false,
     "start_time": "2023-06-27T17:31:55.118922",
     "status": "completed"
    },
    "tags": []
   },
   "source": [
    "Can you see any interesting patterns in the scatter plot?  We'll investigate this plot further  by adding regression lines in the next step!\n",
    "\n",
    "## Step 6: Investigate chocolate\n",
    "\n",
    "#### Part A\n",
    "\n",
    "Create the same scatter plot you created in **Step 5**, but now with two regression lines, corresponding to (1) chocolate candies and (2) candies without chocolate."
   ]
  },
  {
   "cell_type": "code",
   "execution_count": 18,
   "id": "36bff0b5",
   "metadata": {
    "execution": {
     "iopub.execute_input": "2023-06-27T17:31:55.167450Z",
     "iopub.status.busy": "2023-06-27T17:31:55.167072Z",
     "iopub.status.idle": "2023-06-27T17:31:56.031976Z",
     "shell.execute_reply": "2023-06-27T17:31:56.030676Z"
    },
    "papermill": {
     "duration": 0.88467,
     "end_time": "2023-06-27T17:31:56.034647",
     "exception": false,
     "start_time": "2023-06-27T17:31:55.149977",
     "status": "completed"
    },
    "tags": []
   },
   "outputs": [
    {
     "data": {
      "application/javascript": [
       "parent.postMessage({\"jupyterEvent\": \"custom.exercise_interaction\", \"data\": {\"outcomeType\": 1, \"valueTowardsCompletion\": 0.3333333333333333, \"interactionType\": 1, \"questionType\": 2, \"questionId\": \"6.1_PlotColorReg\", \"learnToolsVersion\": \"0.3.4\", \"failureMessage\": \"\", \"exceptionClass\": \"\", \"trace\": \"\"}}, \"*\")"
      ],
      "text/plain": [
       "<IPython.core.display.Javascript object>"
      ]
     },
     "metadata": {},
     "output_type": "display_data"
    },
    {
     "data": {
      "text/markdown": [
       "<span style=\"color:#33cc33\">Correct</span>"
      ],
      "text/plain": [
       "Correct"
      ]
     },
     "metadata": {},
     "output_type": "display_data"
    },
    {
     "data": {
      "image/png": "[encoded data removed]",
      "text/plain": [
       "<Figure size 578.611x500 with 1 Axes>"
      ]
     },
     "metadata": {},
     "output_type": "display_data"
    }
   ],
   "source": [
    "# Color-coded scatter plot w/ regression lines\n",
    "sns.lmplot(x=\"pricepercent\", y=\"winpercent\", hue=\"chocolate\",data=candy_data)\n",
    "# Check your answer\n",
    "step_6.a.check()"
   ]
  },
  {
   "cell_type": "code",
   "execution_count": 19,
   "id": "a4d75530",
   "metadata": {
    "execution": {
     "iopub.execute_input": "2023-06-27T17:31:56.071934Z",
     "iopub.status.busy": "2023-06-27T17:31:56.071507Z",
     "iopub.status.idle": "2023-06-27T17:31:56.077081Z",
     "shell.execute_reply": "2023-06-27T17:31:56.075771Z"
    },
    "papermill": {
     "duration": 0.026703,
     "end_time": "2023-06-27T17:31:56.079313",
     "exception": false,
     "start_time": "2023-06-27T17:31:56.052610",
     "status": "completed"
    },
    "tags": []
   },
   "outputs": [],
   "source": [
    "# Lines below will give you a hint or solution code\n",
    "#step_6.a.hint()\n",
    "#step_6.a.solution_plot()"
   ]
  },
  {
   "cell_type": "markdown",
   "id": "c57c9f9e",
   "metadata": {
    "papermill": {
     "duration": 0.017305,
     "end_time": "2023-06-27T17:31:56.114221",
     "exception": false,
     "start_time": "2023-06-27T17:31:56.096916",
     "status": "completed"
    },
    "tags": []
   },
   "source": [
    "#### Part B\n",
    "\n",
    "Using the regression lines, what conclusions can you draw about the effects of chocolate and price on candy popularity?"
   ]
  },
  {
   "cell_type": "code",
   "execution_count": 20,
   "id": "bd723490",
   "metadata": {
    "execution": {
     "iopub.execute_input": "2023-06-27T17:31:56.150868Z",
     "iopub.status.busy": "2023-06-27T17:31:56.149652Z",
     "iopub.status.idle": "2023-06-27T17:31:56.154530Z",
     "shell.execute_reply": "2023-06-27T17:31:56.153704Z"
    },
    "papermill": {
     "duration": 0.025192,
     "end_time": "2023-06-27T17:31:56.156570",
     "exception": false,
     "start_time": "2023-06-27T17:31:56.131378",
     "status": "completed"
    },
    "tags": []
   },
   "outputs": [],
   "source": [
    "#step_6.b.hint()"
   ]
  },
  {
   "cell_type": "code",
   "execution_count": 21,
   "id": "d72e1b17",
   "metadata": {
    "execution": {
     "iopub.execute_input": "2023-06-27T17:31:56.192465Z",
     "iopub.status.busy": "2023-06-27T17:31:56.192032Z",
     "iopub.status.idle": "2023-06-27T17:31:56.201026Z",
     "shell.execute_reply": "2023-06-27T17:31:56.199800Z"
    },
    "papermill": {
     "duration": 0.029809,
     "end_time": "2023-06-27T17:31:56.203311",
     "exception": false,
     "start_time": "2023-06-27T17:31:56.173502",
     "status": "completed"
    },
    "tags": []
   },
   "outputs": [
    {
     "data": {
      "application/javascript": [
       "parent.postMessage({\"jupyterEvent\": \"custom.exercise_interaction\", \"data\": {\"interactionType\": 3, \"questionType\": 4, \"questionId\": \"6.2_ThinkColorReg\", \"learnToolsVersion\": \"0.3.4\", \"valueTowardsCompletion\": 0.0, \"failureMessage\": \"\", \"exceptionClass\": \"\", \"trace\": \"\", \"outcomeType\": 4}}, \"*\")"
      ],
      "text/plain": [
       "<IPython.core.display.Javascript object>"
      ]
     },
     "metadata": {},
     "output_type": "display_data"
    },
    {
     "data": {
      "text/markdown": [
       "<span style=\"color:#33cc99\">Solution:</span> We'll begin with the regression line for chocolate candies. Since this line has a slightly positive slope, we can say that more expensive chocolate candies tend to be more popular (than relatively cheaper chocolate candies).  Likewise, since the regression line for candies without chocolate has a negative slope, we can say that if candies don't contain chocolate, they tend to be more popular when they are cheaper.  One important note, however, is that the dataset is quite small -- so we shouldn't invest too much trust in these patterns!  To inspire more confidence in the results, we should add more candies to the dataset."
      ],
      "text/plain": [
       "Solution: We'll begin with the regression line for chocolate candies. Since this line has a slightly positive slope, we can say that more expensive chocolate candies tend to be more popular (than relatively cheaper chocolate candies).  Likewise, since the regression line for candies without chocolate has a negative slope, we can say that if candies don't contain chocolate, they tend to be more popular when they are cheaper.  One important note, however, is that the dataset is quite small -- so we shouldn't invest too much trust in these patterns!  To inspire more confidence in the results, we should add more candies to the dataset."
      ]
     },
     "metadata": {},
     "output_type": "display_data"
    }
   ],
   "source": [
    "# Check your answer (Run this code cell to receive credit!)\n",
    "step_6.b.solution()"
   ]
  },
  {
   "cell_type": "markdown",
   "id": "bdb50e59",
   "metadata": {
    "papermill": {
     "duration": 0.017745,
     "end_time": "2023-06-27T17:31:56.238438",
     "exception": false,
     "start_time": "2023-06-27T17:31:56.220693",
     "status": "completed"
    },
    "tags": []
   },
   "source": [
    "## Step 7: Everybody loves chocolate.\n",
    "\n",
    "#### Part A\n",
    "\n",
    "Create a categorical scatter plot to highlight the relationship between `'chocolate'` and `'winpercent'`.  Put `'chocolate'` on the (horizontal) x-axis, and `'winpercent'` on the (vertical) y-axis."
   ]
  },
  {
   "cell_type": "code",
   "execution_count": 22,
   "id": "e46f34b9",
   "metadata": {
    "execution": {
     "iopub.execute_input": "2023-06-27T17:31:56.274535Z",
     "iopub.status.busy": "2023-06-27T17:31:56.274057Z",
     "iopub.status.idle": "2023-06-27T17:31:56.831576Z",
     "shell.execute_reply": "2023-06-27T17:31:56.829892Z"
    },
    "papermill": {
     "duration": 0.580009,
     "end_time": "2023-06-27T17:31:56.835615",
     "exception": false,
     "start_time": "2023-06-27T17:31:56.255606",
     "status": "completed"
    },
    "tags": []
   },
   "outputs": [
    {
     "data": {
      "application/javascript": [
       "parent.postMessage({\"jupyterEvent\": \"custom.exercise_interaction\", \"data\": {\"outcomeType\": 1, \"valueTowardsCompletion\": 0.3333333333333333, \"interactionType\": 1, \"questionType\": 2, \"questionId\": \"7.1_PlotSwarm\", \"learnToolsVersion\": \"0.3.4\", \"failureMessage\": \"\", \"exceptionClass\": \"\", \"trace\": \"\"}}, \"*\")"
      ],
      "text/plain": [
       "<IPython.core.display.Javascript object>"
      ]
     },
     "metadata": {},
     "output_type": "display_data"
    },
    {
     "data": {
      "text/markdown": [
       "<span style=\"color:#33cc33\">Correct</span>"
      ],
      "text/plain": [
       "Correct"
      ]
     },
     "metadata": {},
     "output_type": "display_data"
    },
    {
     "data": {
      "image/png": "[encoded data removed]",
      "text/plain": [
       "<Figure size 640x480 with 1 Axes>"
      ]
     },
     "metadata": {},
     "output_type": "display_data"
    }
   ],
   "source": [
    "# Scatter plot showing the relationship between 'chocolate' and 'winpercent'\n",
    "sns.swarmplot(x=candy_data['chocolate'],y=candy_data['winpercent'])\n",
    "\n",
    "# Check your answer\n",
    "step_7.a.check()"
   ]
  },
  {
   "cell_type": "code",
   "execution_count": 23,
   "id": "6e218d13",
   "metadata": {
    "execution": {
     "iopub.execute_input": "2023-06-27T17:31:56.883857Z",
     "iopub.status.busy": "2023-06-27T17:31:56.882974Z",
     "iopub.status.idle": "2023-06-27T17:31:56.887455Z",
     "shell.execute_reply": "2023-06-27T17:31:56.886524Z"
    },
    "papermill": {
     "duration": 0.0262,
     "end_time": "2023-06-27T17:31:56.889605",
     "exception": false,
     "start_time": "2023-06-27T17:31:56.863405",
     "status": "completed"
    },
    "tags": []
   },
   "outputs": [],
   "source": [
    "# Lines below will give you a hint or solution code\n",
    "#step_7.a.hint()\n",
    "#step_7.a.solution_plot()"
   ]
  },
  {
   "cell_type": "markdown",
   "id": "447f3761",
   "metadata": {
    "papermill": {
     "duration": 0.017485,
     "end_time": "2023-06-27T17:31:56.925306",
     "exception": false,
     "start_time": "2023-06-27T17:31:56.907821",
     "status": "completed"
    },
    "tags": []
   },
   "source": [
    "#### Part B\n",
    "\n",
    "You decide to dedicate a section of your report to the fact that chocolate candies tend to be more popular than candies without chocolate.  Which plot is more appropriate to tell this story: the plot from **Step 6**, or the plot from **Step 7**?"
   ]
  },
  {
   "cell_type": "code",
   "execution_count": 24,
   "id": "4b301884",
   "metadata": {
    "execution": {
     "iopub.execute_input": "2023-06-27T17:31:56.964684Z",
     "iopub.status.busy": "2023-06-27T17:31:56.963611Z",
     "iopub.status.idle": "2023-06-27T17:31:56.968367Z",
     "shell.execute_reply": "2023-06-27T17:31:56.967318Z"
    },
    "papermill": {
     "duration": 0.026925,
     "end_time": "2023-06-27T17:31:56.970869",
     "exception": false,
     "start_time": "2023-06-27T17:31:56.943944",
     "status": "completed"
    },
    "tags": []
   },
   "outputs": [],
   "source": [
    "#step_7.b.hint()"
   ]
  },
  {
   "cell_type": "code",
   "execution_count": 25,
   "id": "7e61a71d",
   "metadata": {
    "execution": {
     "iopub.execute_input": "2023-06-27T17:31:57.008722Z",
     "iopub.status.busy": "2023-06-27T17:31:57.008259Z",
     "iopub.status.idle": "2023-06-27T17:31:57.017694Z",
     "shell.execute_reply": "2023-06-27T17:31:57.016894Z"
    },
    "papermill": {
     "duration": 0.031197,
     "end_time": "2023-06-27T17:31:57.020086",
     "exception": false,
     "start_time": "2023-06-27T17:31:56.988889",
     "status": "completed"
    },
    "tags": []
   },
   "outputs": [
    {
     "data": {
      "application/javascript": [
       "parent.postMessage({\"jupyterEvent\": \"custom.exercise_interaction\", \"data\": {\"interactionType\": 3, \"questionType\": 4, \"questionId\": \"7.2_ThinkSwarm\", \"learnToolsVersion\": \"0.3.4\", \"valueTowardsCompletion\": 0.0, \"failureMessage\": \"\", \"exceptionClass\": \"\", \"trace\": \"\", \"outcomeType\": 4}}, \"*\")"
      ],
      "text/plain": [
       "<IPython.core.display.Javascript object>"
      ]
     },
     "metadata": {},
     "output_type": "display_data"
    },
    {
     "data": {
      "text/markdown": [
       "<span style=\"color:#33cc99\">Solution:</span> In this case, the categorical scatter plot from **Step 7** is the more appropriate plot. While both plots tell the desired story, the plot from **Step 6** conveys far more information that could distract from the main point."
      ],
      "text/plain": [
       "Solution: In this case, the categorical scatter plot from **Step 7** is the more appropriate plot. While both plots tell the desired story, the plot from **Step 6** conveys far more information that could distract from the main point."
      ]
     },
     "metadata": {},
     "output_type": "display_data"
    }
   ],
   "source": [
    "# Check your answer (Run this code cell to receive credit!)\n",
    "step_7.b.solution()"
   ]
  },
  {
   "cell_type": "markdown",
   "id": "95c7e6df",
   "metadata": {
    "papermill": {
     "duration": 0.01788,
     "end_time": "2023-06-27T17:31:57.056156",
     "exception": false,
     "start_time": "2023-06-27T17:31:57.038276",
     "status": "completed"
    },
    "tags": []
   },
   "source": [
    "## Keep going\n",
    "\n",
    "Explore **[histograms and density plots](https://www.kaggle.com/alexisbcook/distributions)**."
   ]
  },
  {
   "cell_type": "markdown",
   "id": "a4ae3871",
   "metadata": {
    "papermill": {
     "duration": 0.017592,
     "end_time": "2023-06-27T17:31:57.091767",
     "exception": false,
     "start_time": "2023-06-27T17:31:57.074175",
     "status": "completed"
    },
    "tags": []
   },
   "source": [
    "---\n",
    "\n",
    "\n",
    "\n",
    "\n",
    "*Have questions or comments? Visit the [course discussion forum](https://www.kaggle.com/learn/data-visualization/discussion) to chat with other learners.*"
   ]
  }
 ],
 "metadata": {
  "kernelspec": {
   "display_name": "Python 3",
   "language": "python",
   "name": "python3"
  },
  "language_info": {
   "codemirror_mode": {
    "name": "ipython",
    "version": 3
   },
   "file_extension": ".py",
   "mimetype": "text/x-python",
   "name": "python",
   "nbconvert_exporter": "python",
   "pygments_lexer": "ipython3",
   "version": "3.10.10"
  },
  "papermill": {
   "default_parameters": {},
   "duration": 19.028167,
   "end_time": "2023-06-27T17:31:58.437410",
   "environment_variables": {},
   "exception": null,
   "input_path": "__notebook__.ipynb",
   "output_path": "__notebook__.ipynb",
   "parameters": {},
   "start_time": "2023-06-27T17:31:39.409243",
   "version": "2.4.0"
  }
 },
 "nbformat": 4,
 "nbformat_minor": 5
}
